{
  "nbformat": 4,
  "nbformat_minor": 0,
  "metadata": {
    "colab": {
      "name": "Preliminary problem - linear system solver.ipynb",
      "provenance": [],
      "collapsed_sections": []
    },
    "kernelspec": {
      "name": "python3",
      "display_name": "Python 3"
    },
    "language_info": {
      "name": "python"
    }
  },
  "cells": [
    {
      "cell_type": "code",
      "metadata": {
        "id": "Y9PiwU2eHDtU"
      },
      "source": [
        "import numpy as np\n",
        "import matplotlib.pyplot as plt\n",
        "from sklearn.linear_model import LinearRegression\n",
        "from sklearn.metrics import r2_score"
      ],
      "execution_count": 58,
      "outputs": []
    },
    {
      "cell_type": "code",
      "metadata": {
        "id": "-_9Fe-LyHLSu"
      },
      "source": [
        "def I1(x):\n",
        "  return np.sin(x)\n",
        "\n",
        "def I2(x):\n",
        "  return x**4\n",
        "\n",
        "def I3(x):\n",
        "  return np.log(x+1)\n",
        "  #return x**2\n",
        "\n",
        "def I(x):\n",
        "  return 6*I1(x)+3*I2(x)+5*I3(x)\n",
        "  #return x**3\n",
        "\n",
        "funcs = [I1, I2, I3]"
      ],
      "execution_count": 59,
      "outputs": []
    },
    {
      "cell_type": "code",
      "metadata": {
        "id": "71MF6AUSHz67"
      },
      "source": [
        "X = np.linspace(0,1000,100)\n",
        "Y1 = I1(X)\n",
        "Y2 = I2(X)\n",
        "Y3 = I3(X)\n",
        "Y = np.transpose(np.array([Y1, Y2, Y3]))\n",
        "Y0 = I(X)"
      ],
      "execution_count": 60,
      "outputs": []
    },
    {
      "cell_type": "code",
      "metadata": {
        "colab": {
          "base_uri": "https://localhost:8080/",
          "height": 310
        },
        "id": "Vel4hdDKJKD4",
        "outputId": "ba5d3d9d-0a4b-41aa-812d-00a5f586a196"
      },
      "source": [
        "linear_reg = LinearRegression()\n",
        "linear_reg.fit(Y, Y0)\n",
        "yhat = linear_reg.predict(Y)\n",
        "\n",
        "plt.plot(X, Y0,'red')\n",
        "plt.plot(X, yhat, 'green')\n",
        "plt.show()\n",
        "\n",
        "print(r2_score(Y0, yhat))\n",
        "print(linear_reg.coef_)"
      ],
      "execution_count": 61,
      "outputs": [
        {
          "output_type": "display_data",
          "data": {
            "image/png": "[encoded data removed]",
            "text/plain": [
              "<Figure size 432x288 with 1 Axes>"
            ]
          },
          "metadata": {
            "needs_background": "light"
          }
        },
        {
          "output_type": "stream",
          "name": "stdout",
          "text": [
            "1.0\n",
            "[6.00002363 3.         4.99997201]\n"
          ]
        }
      ]
    }
  ]
}